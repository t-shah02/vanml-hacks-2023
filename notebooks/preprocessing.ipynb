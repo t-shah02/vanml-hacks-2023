{
 "cells": [
  {
   "cell_type": "code",
   "execution_count": 1,
   "metadata": {},
   "outputs": [],
   "source": [
    "import sys\n",
    "sys.path.append(\"..\")\n",
    "\n",
    "import dotenv\n",
    "\n",
    "import pandas as pd\n",
    "from helpers.load_data import *\n",
    "\n",
    "\n",
    "dotenv.load_dotenv()\n",
    "DATA_DIRECTORY = os.environ.get(\"DATA_DIRECTORY\", './data')"
   ]
  },
  {
   "cell_type": "code",
   "execution_count": 2,
   "metadata": {},
   "outputs": [
    {
     "name": "stderr",
     "output_type": "stream",
     "text": [
      "/home/tanny/vanml-hacks-2023/notebooks/../helpers/load_data.py:20: DtypeWarning: Columns (14) have mixed types. Specify dtype option on import or set low_memory=False.\n",
      "  df = pd.read_csv(data_filepath, parse_dates=[1, 2])\n"
     ]
    }
   ],
   "source": [
    "dfs = load_datafolder(\"processed\")\n",
    "df = dfs[\"final_data.csv\"]"
   ]
  },
  {
   "cell_type": "code",
   "execution_count": 3,
   "metadata": {},
   "outputs": [
    {
     "data": {
      "text/plain": [
       "callreportnum                                           float64\n",
       "DateStart                                        datetime64[ns]\n",
       "TimeStart                                        datetime64[ns]\n",
       "DateEnd                                                  object\n",
       "TimeEnd                                                  object\n",
       "CallLength                                                int64\n",
       "CityName                                                 object\n",
       "CallType                                                 object\n",
       "ContactMethod                                            object\n",
       "CallerDemographicsGender                                 object\n",
       "CallerDemographicsAgeGroup                               object\n",
       "CallerDemographicsCallerType                             object\n",
       "CallerTypeAffected3rdParty                               object\n",
       "CallerDemographicsInterpretationLanguage                 object\n",
       "CallerDemographicsInterpretationOtherlanguage            object\n",
       "PublicityOtherPublicity                                  object\n",
       "Mainreason                                               object\n",
       "ReasonDetail                                             object\n",
       "dtype: object"
      ]
     },
     "execution_count": 3,
     "metadata": {},
     "output_type": "execute_result"
    }
   ],
   "source": [
    "df[\"DateStart\"] = pd.to_datetime(df[\"DateStart\"])\n",
    "df.dtypes"
   ]
  },
  {
   "cell_type": "code",
   "execution_count": 4,
   "metadata": {},
   "outputs": [],
   "source": [
    "top_5_cities = df['CityName'].value_counts().sort_values(ascending=False)[0:5]\n",
    "\n",
    "# grabs the top 5 cities for use in model training\n",
    "for city in top_5_cities.keys():\n",
    "    dn = df[df[\"CityName\"] == city]\n",
    "    dn[\"CityName\"].value_counts()\n",
    "\n",
    "    dn.to_csv(f\"{DATA_DIRECTORY}/processed/final_data_{city.lower()}.csv\", index=False)\n",
    "\n",
    "\n",
    "\n",
    "# sort by population\n",
    "# and then once we have that we can run through models to assess the best one for the city"
   ]
  },
  {
   "cell_type": "code",
   "execution_count": null,
   "metadata": {},
   "outputs": [],
   "source": []
  }
 ],
 "metadata": {
  "kernelspec": {
   "display_name": "venv",
   "language": "python",
   "name": "python3"
  },
  "language_info": {
   "codemirror_mode": {
    "name": "ipython",
    "version": 3
   },
   "file_extension": ".py",
   "mimetype": "text/x-python",
   "name": "python",
   "nbconvert_exporter": "python",
   "pygments_lexer": "ipython3",
   "version": "3.11.2"
  },
  "orig_nbformat": 4
 },
 "nbformat": 4,
 "nbformat_minor": 2
}
