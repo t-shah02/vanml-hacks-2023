{
 "cells": [
  {
   "cell_type": "code",
   "execution_count": 1,
   "metadata": {},
   "outputs": [],
   "source": [
    "import sys\n",
    "sys.path.append(\"..\")\n",
    "\n",
    "import dotenv\n",
    "from datetime import datetime\n",
    "\n",
    "import pandas as pd\n",
    "from helpers.load_data import *\n",
    "\n",
    "\n",
    "dotenv.load_dotenv()\n",
    "DATA_DIRECTORY = os.environ.get(\"DATA_DIRECTORY\", './data')"
   ]
  },
  {
   "cell_type": "code",
   "execution_count": 12,
   "metadata": {},
   "outputs": [
    {
     "name": "stderr",
     "output_type": "stream",
     "text": [
      "/home/morris/Documents/coding/vanML-2023/notebooks/../helpers/load_data.py:20: DtypeWarning: Columns (14) have mixed types. Specify dtype option on import or set low_memory=False.\n",
      "  df = pd.read_csv(data_filepath, parse_dates=[1, 2, 3, 4])\n",
      "/home/morris/Documents/coding/vanML-2023/notebooks/../helpers/load_data.py:20: DtypeWarning: Columns (14) have mixed types. Specify dtype option on import or set low_memory=False.\n",
      "  df = pd.read_csv(data_filepath, parse_dates=[1, 2, 3, 4])\n",
      "/home/morris/Documents/coding/vanML-2023/notebooks/../helpers/load_data.py:20: DtypeWarning: Columns (14) have mixed types. Specify dtype option on import or set low_memory=False.\n",
      "  df = pd.read_csv(data_filepath, parse_dates=[1, 2, 3, 4])\n"
     ]
    }
   ],
   "source": [
    "dfs = load_datafolder(\"processed\")\n",
    "df = dfs[\"final_data.csv\"]"
   ]
  },
  {
   "cell_type": "code",
   "execution_count": 22,
   "metadata": {},
   "outputs": [],
   "source": [
    "top_5_cities = df['CityName'].value_counts().sort_values(ascending=False)[0:5]\n",
    "\n",
    "# grabs the top 5 cities for use in model training\n",
    "for city in top_5_cities.keys():\n",
    "    dn = df[df[\"CityName\"] == city]\n",
    "    dn[\"CityName\"].value_counts()\n",
    "\n",
    "    dn.to_csv(f\"{DATA_DIRECTORY}/processed/final_data_{city.lower()}.csv\", index=False)\n",
    "\n",
    "\n",
    "# sort by population\n",
    "# and then once we have that we can run through models to assess the best one for the city"
   ]
  }
 ],
 "metadata": {
  "kernelspec": {
   "display_name": "venv",
   "language": "python",
   "name": "python3"
  },
  "language_info": {
   "codemirror_mode": {
    "name": "ipython",
    "version": 3
   },
   "file_extension": ".py",
   "mimetype": "text/x-python",
   "name": "python",
   "nbconvert_exporter": "python",
   "pygments_lexer": "ipython3",
   "version": "3.10.12"
  },
  "orig_nbformat": 4
 },
 "nbformat": 4,
 "nbformat_minor": 2
}
