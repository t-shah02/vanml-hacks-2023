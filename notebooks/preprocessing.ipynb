{
 "cells": [
  {
   "cell_type": "code",
   "execution_count": 4,
   "metadata": {},
   "outputs": [],
   "source": [
    "\n",
    "import sys\n",
    "sys.path.append(\"..\")\n",
    "\n",
    "from helpers.load_data import *\n",
    "import pandas as pd\n",
    "import numpy as np\n",
    "import matplotlib.pyplot as plt\n",
    "import seaborn as sns\n",
    "from sklearn.model_selection import train_test_split\n",
    "from sklearn.pipeline import make_pipeline\n",
    "from sklearn.preprocessing import StandardScaler, PolynomialFeatures, MinMaxScaler\n",
    "from sklearn.neighbors import KNeighborsRegressor\n",
    "from sklearn.ensemble import AdaBoostRegressor, RandomForestRegressor\n",
    "from sklearn.linear_model import LinearRegression\n",
    "from sklearn.compose import ColumnTransformer\n",
    "from sklearn import preprocessing\n",
    "from sklearn.preprocessing import LabelEncoder\n",
    "from sklearn.preprocessing import OneHotEncoder\n"
   ]
  },
  {
   "cell_type": "code",
   "execution_count": 5,
   "metadata": {},
   "outputs": [
    {
     "ename": "UnicodeDecodeError",
     "evalue": "'utf-8' codec can't decode byte 0xff in position 310: invalid start byte",
     "output_type": "error",
     "traceback": [
      "\u001b[0;31m---------------------------------------------------------------------------\u001b[0m",
      "\u001b[0;31mUnicodeDecodeError\u001b[0m                        Traceback (most recent call last)",
      "Cell \u001b[0;32mIn[5], line 1\u001b[0m\n\u001b[0;32m----> 1\u001b[0m load_datafolder(\u001b[39m'\u001b[39;49m\u001b[39mraw\u001b[39;49m\u001b[39m'\u001b[39;49m)\n",
      "File \u001b[0;32m~/Documents/Hackthon/vanml-hacks-2023/notebooks/../helpers/load_data.py:20\u001b[0m, in \u001b[0;36mload_datafolder\u001b[0;34m(directory_name)\u001b[0m\n\u001b[1;32m     18\u001b[0m \u001b[39mfor\u001b[39;00m filename \u001b[39min\u001b[39;00m os\u001b[39m.\u001b[39mlistdir(data_folderpath):\n\u001b[1;32m     19\u001b[0m     data_filepath \u001b[39m=\u001b[39m os\u001b[39m.\u001b[39mpath\u001b[39m.\u001b[39mjoin(data_folderpath, filename)\n\u001b[0;32m---> 20\u001b[0m     df \u001b[39m=\u001b[39m pd\u001b[39m.\u001b[39;49mread_csv(data_filepath)\n\u001b[1;32m     21\u001b[0m     dfs[filename] \u001b[39m=\u001b[39m df\n\u001b[1;32m     23\u001b[0m \u001b[39mreturn\u001b[39;00m dfs\n",
      "File \u001b[0;32m~/Documents/Hackthon/vanml-hacks-2023/venv/lib/python3.9/site-packages/pandas/io/parsers/readers.py:948\u001b[0m, in \u001b[0;36mread_csv\u001b[0;34m(filepath_or_buffer, sep, delimiter, header, names, index_col, usecols, dtype, engine, converters, true_values, false_values, skipinitialspace, skiprows, skipfooter, nrows, na_values, keep_default_na, na_filter, verbose, skip_blank_lines, parse_dates, infer_datetime_format, keep_date_col, date_parser, date_format, dayfirst, cache_dates, iterator, chunksize, compression, thousands, decimal, lineterminator, quotechar, quoting, doublequote, escapechar, comment, encoding, encoding_errors, dialect, on_bad_lines, delim_whitespace, low_memory, memory_map, float_precision, storage_options, dtype_backend)\u001b[0m\n\u001b[1;32m    935\u001b[0m kwds_defaults \u001b[39m=\u001b[39m _refine_defaults_read(\n\u001b[1;32m    936\u001b[0m     dialect,\n\u001b[1;32m    937\u001b[0m     delimiter,\n\u001b[0;32m   (...)\u001b[0m\n\u001b[1;32m    944\u001b[0m     dtype_backend\u001b[39m=\u001b[39mdtype_backend,\n\u001b[1;32m    945\u001b[0m )\n\u001b[1;32m    946\u001b[0m kwds\u001b[39m.\u001b[39mupdate(kwds_defaults)\n\u001b[0;32m--> 948\u001b[0m \u001b[39mreturn\u001b[39;00m _read(filepath_or_buffer, kwds)\n",
      "File \u001b[0;32m~/Documents/Hackthon/vanml-hacks-2023/venv/lib/python3.9/site-packages/pandas/io/parsers/readers.py:611\u001b[0m, in \u001b[0;36m_read\u001b[0;34m(filepath_or_buffer, kwds)\u001b[0m\n\u001b[1;32m    608\u001b[0m _validate_names(kwds\u001b[39m.\u001b[39mget(\u001b[39m\"\u001b[39m\u001b[39mnames\u001b[39m\u001b[39m\"\u001b[39m, \u001b[39mNone\u001b[39;00m))\n\u001b[1;32m    610\u001b[0m \u001b[39m# Create the parser.\u001b[39;00m\n\u001b[0;32m--> 611\u001b[0m parser \u001b[39m=\u001b[39m TextFileReader(filepath_or_buffer, \u001b[39m*\u001b[39;49m\u001b[39m*\u001b[39;49mkwds)\n\u001b[1;32m    613\u001b[0m \u001b[39mif\u001b[39;00m chunksize \u001b[39mor\u001b[39;00m iterator:\n\u001b[1;32m    614\u001b[0m     \u001b[39mreturn\u001b[39;00m parser\n",
      "File \u001b[0;32m~/Documents/Hackthon/vanml-hacks-2023/venv/lib/python3.9/site-packages/pandas/io/parsers/readers.py:1448\u001b[0m, in \u001b[0;36mTextFileReader.__init__\u001b[0;34m(self, f, engine, **kwds)\u001b[0m\n\u001b[1;32m   1445\u001b[0m     \u001b[39mself\u001b[39m\u001b[39m.\u001b[39moptions[\u001b[39m\"\u001b[39m\u001b[39mhas_index_names\u001b[39m\u001b[39m\"\u001b[39m] \u001b[39m=\u001b[39m kwds[\u001b[39m\"\u001b[39m\u001b[39mhas_index_names\u001b[39m\u001b[39m\"\u001b[39m]\n\u001b[1;32m   1447\u001b[0m \u001b[39mself\u001b[39m\u001b[39m.\u001b[39mhandles: IOHandles \u001b[39m|\u001b[39m \u001b[39mNone\u001b[39;00m \u001b[39m=\u001b[39m \u001b[39mNone\u001b[39;00m\n\u001b[0;32m-> 1448\u001b[0m \u001b[39mself\u001b[39m\u001b[39m.\u001b[39m_engine \u001b[39m=\u001b[39m \u001b[39mself\u001b[39;49m\u001b[39m.\u001b[39;49m_make_engine(f, \u001b[39mself\u001b[39;49m\u001b[39m.\u001b[39;49mengine)\n",
      "File \u001b[0;32m~/Documents/Hackthon/vanml-hacks-2023/venv/lib/python3.9/site-packages/pandas/io/parsers/readers.py:1723\u001b[0m, in \u001b[0;36mTextFileReader._make_engine\u001b[0;34m(self, f, engine)\u001b[0m\n\u001b[1;32m   1720\u001b[0m     \u001b[39mraise\u001b[39;00m \u001b[39mValueError\u001b[39;00m(msg)\n\u001b[1;32m   1722\u001b[0m \u001b[39mtry\u001b[39;00m:\n\u001b[0;32m-> 1723\u001b[0m     \u001b[39mreturn\u001b[39;00m mapping[engine](f, \u001b[39m*\u001b[39;49m\u001b[39m*\u001b[39;49m\u001b[39mself\u001b[39;49m\u001b[39m.\u001b[39;49moptions)\n\u001b[1;32m   1724\u001b[0m \u001b[39mexcept\u001b[39;00m \u001b[39mException\u001b[39;00m:\n\u001b[1;32m   1725\u001b[0m     \u001b[39mif\u001b[39;00m \u001b[39mself\u001b[39m\u001b[39m.\u001b[39mhandles \u001b[39mis\u001b[39;00m \u001b[39mnot\u001b[39;00m \u001b[39mNone\u001b[39;00m:\n",
      "File \u001b[0;32m~/Documents/Hackthon/vanml-hacks-2023/venv/lib/python3.9/site-packages/pandas/io/parsers/c_parser_wrapper.py:93\u001b[0m, in \u001b[0;36mCParserWrapper.__init__\u001b[0;34m(self, src, **kwds)\u001b[0m\n\u001b[1;32m     90\u001b[0m \u001b[39mif\u001b[39;00m kwds[\u001b[39m\"\u001b[39m\u001b[39mdtype_backend\u001b[39m\u001b[39m\"\u001b[39m] \u001b[39m==\u001b[39m \u001b[39m\"\u001b[39m\u001b[39mpyarrow\u001b[39m\u001b[39m\"\u001b[39m:\n\u001b[1;32m     91\u001b[0m     \u001b[39m# Fail here loudly instead of in cython after reading\u001b[39;00m\n\u001b[1;32m     92\u001b[0m     import_optional_dependency(\u001b[39m\"\u001b[39m\u001b[39mpyarrow\u001b[39m\u001b[39m\"\u001b[39m)\n\u001b[0;32m---> 93\u001b[0m \u001b[39mself\u001b[39m\u001b[39m.\u001b[39m_reader \u001b[39m=\u001b[39m parsers\u001b[39m.\u001b[39;49mTextReader(src, \u001b[39m*\u001b[39;49m\u001b[39m*\u001b[39;49mkwds)\n\u001b[1;32m     95\u001b[0m \u001b[39mself\u001b[39m\u001b[39m.\u001b[39munnamed_cols \u001b[39m=\u001b[39m \u001b[39mself\u001b[39m\u001b[39m.\u001b[39m_reader\u001b[39m.\u001b[39munnamed_cols\n\u001b[1;32m     97\u001b[0m \u001b[39m# error: Cannot determine type of 'names'\u001b[39;00m\n",
      "File \u001b[0;32mparsers.pyx:579\u001b[0m, in \u001b[0;36mpandas._libs.parsers.TextReader.__cinit__\u001b[0;34m()\u001b[0m\n",
      "File \u001b[0;32mparsers.pyx:668\u001b[0m, in \u001b[0;36mpandas._libs.parsers.TextReader._get_header\u001b[0;34m()\u001b[0m\n",
      "File \u001b[0;32mparsers.pyx:879\u001b[0m, in \u001b[0;36mpandas._libs.parsers.TextReader._tokenize_rows\u001b[0;34m()\u001b[0m\n",
      "File \u001b[0;32mparsers.pyx:890\u001b[0m, in \u001b[0;36mpandas._libs.parsers.TextReader._check_tokenize_status\u001b[0;34m()\u001b[0m\n",
      "File \u001b[0;32mparsers.pyx:2050\u001b[0m, in \u001b[0;36mpandas._libs.parsers.raise_parser_error\u001b[0;34m()\u001b[0m\n",
      "\u001b[0;31mUnicodeDecodeError\u001b[0m: 'utf-8' codec can't decode byte 0xff in position 310: invalid start byte"
     ]
    }
   ],
   "source": [
    "load_datafolder('raw')"
   ]
  },
  {
   "cell_type": "code",
   "execution_count": 5,
   "metadata": {},
   "outputs": [
    {
     "data": {
      "text/plain": [
       "CallerDemographicsAgeGroup\n",
       "19-54 Adult               192009\n",
       "65+ Senior                 22575\n",
       "Unknown                     9327\n",
       "55-64 Adult                 8985\n",
       "55-64 Older Adult           1762\n",
       "13-18 Youth                  839\n",
       "0-12 Child                    35\n",
       "Prefer not to Disclose        16\n",
       "Name: count, dtype: int64"
      ]
     },
     "execution_count": 5,
     "metadata": {},
     "output_type": "execute_result"
    }
   ],
   "source": [
    "calls['CallerTypeAffected3rdParty'].isna().value_counts()\n",
    "calls['CallerDemographicsAgeGroup'].value_counts()"
   ]
  },
  {
   "cell_type": "code",
   "execution_count": 7,
   "metadata": {},
   "outputs": [],
   "source": [
    "reasons=dfs['reasons.csv']"
   ]
  },
  {
   "cell_type": "code",
   "execution_count": 4,
   "metadata": {},
   "outputs": [
    {
     "ename": "NameError",
     "evalue": "name 'calls' is not defined",
     "output_type": "error",
     "traceback": [
      "\u001b[0;31m---------------------------------------------------------------------------\u001b[0m",
      "\u001b[0;31mNameError\u001b[0m                                 Traceback (most recent call last)",
      "Cell \u001b[0;32mIn[4], line 1\u001b[0m\n\u001b[0;32m----> 1\u001b[0m merged_df\u001b[39m=\u001b[39mcalls\u001b[39m.\u001b[39mmerge(reasons,how\u001b[39m=\u001b[39m\u001b[39m'\u001b[39m\u001b[39minner\u001b[39m\u001b[39m'\u001b[39m,left_on\u001b[39m=\u001b[39m\u001b[39m'\u001b[39m\u001b[39mcallreportnum\u001b[39m\u001b[39m'\u001b[39m,right_on\u001b[39m=\u001b[39m\u001b[39m'\u001b[39m\u001b[39mcallreportnum1\u001b[39m\u001b[39m'\u001b[39m)\n\u001b[1;32m      2\u001b[0m merged_df\u001b[39m.\u001b[39mhead()\n",
      "\u001b[0;31mNameError\u001b[0m: name 'calls' is not defined"
     ]
    }
   ],
   "source": [
    "merged_df=calls.merge(reasons,how='inner',left_on='callreportnum',right_on='callreportnum1')\n",
    "merged_df.head()"
   ]
  },
  {
   "cell_type": "code",
   "execution_count": 5,
   "metadata": {},
   "outputs": [
    {
     "name": "stderr",
     "output_type": "stream",
     "text": [
      "/var/folders/qt/t8g050hd0_v1kv6v67nrpgf40000gn/T/ipykernel_53060/130791295.py:1: DtypeWarning: Columns (14) have mixed types. Specify dtype option on import or set low_memory=False.\n",
      "  final=pd.read_csv('/Users/xirao/Documents/Hackthon/vanml-hacks-2023/data/raw/final_data.csv')\n"
     ]
    },
    {
     "data": {
      "text/html": [
       "<div>\n",
       "<style scoped>\n",
       "    .dataframe tbody tr th:only-of-type {\n",
       "        vertical-align: middle;\n",
       "    }\n",
       "\n",
       "    .dataframe tbody tr th {\n",
       "        vertical-align: top;\n",
       "    }\n",
       "\n",
       "    .dataframe thead th {\n",
       "        text-align: right;\n",
       "    }\n",
       "</style>\n",
       "<table border=\"1\" class=\"dataframe\">\n",
       "  <thead>\n",
       "    <tr style=\"text-align: right;\">\n",
       "      <th></th>\n",
       "      <th>callreportnum</th>\n",
       "      <th>DateStart</th>\n",
       "      <th>TimeStart</th>\n",
       "      <th>DateEnd</th>\n",
       "      <th>TimeEnd</th>\n",
       "      <th>CallLength</th>\n",
       "      <th>CityName</th>\n",
       "      <th>CallType</th>\n",
       "      <th>ContactMethod</th>\n",
       "      <th>CallerDemographicsGender</th>\n",
       "      <th>CallerDemographicsAgeGroup</th>\n",
       "      <th>CallerDemographicsCallerType</th>\n",
       "      <th>CallerTypeAffected3rdParty</th>\n",
       "      <th>CallerDemographicsInterpretationLanguage</th>\n",
       "      <th>CallerDemographicsInterpretationOtherlanguage</th>\n",
       "      <th>PublicityOtherPublicity</th>\n",
       "      <th>Mainreason</th>\n",
       "      <th>ReasonDetail</th>\n",
       "    </tr>\n",
       "  </thead>\n",
       "  <tbody>\n",
       "    <tr>\n",
       "      <th>0</th>\n",
       "      <td>54694316.0</td>\n",
       "      <td>2018-07-16</td>\n",
       "      <td>1899-12-31 16:42:00</td>\n",
       "      <td>2018-07-16</td>\n",
       "      <td>1899-12-31 16:51:00</td>\n",
       "      <td>9</td>\n",
       "      <td>New Westminster</td>\n",
       "      <td>Assessment and Referral</td>\n",
       "      <td>Telephone</td>\n",
       "      <td>Female</td>\n",
       "      <td>19-54 Adult</td>\n",
       "      <td>Individual</td>\n",
       "      <td>NaN</td>\n",
       "      <td>NaN</td>\n",
       "      <td>NaN</td>\n",
       "      <td>Not Obtained</td>\n",
       "      <td>Abuse</td>\n",
       "      <td>Domestic Violence</td>\n",
       "    </tr>\n",
       "    <tr>\n",
       "      <th>1</th>\n",
       "      <td>54694316.0</td>\n",
       "      <td>2018-07-16</td>\n",
       "      <td>1899-12-31 16:42:00</td>\n",
       "      <td>2018-07-16</td>\n",
       "      <td>1899-12-31 16:51:00</td>\n",
       "      <td>9</td>\n",
       "      <td>New Westminster</td>\n",
       "      <td>Assessment and Referral</td>\n",
       "      <td>Telephone</td>\n",
       "      <td>Female</td>\n",
       "      <td>19-54 Adult</td>\n",
       "      <td>Individual</td>\n",
       "      <td>NaN</td>\n",
       "      <td>NaN</td>\n",
       "      <td>NaN</td>\n",
       "      <td>Not Obtained</td>\n",
       "      <td>Housing and Homelessness</td>\n",
       "      <td>Immediate Shelter</td>\n",
       "    </tr>\n",
       "    <tr>\n",
       "      <th>2</th>\n",
       "      <td>54694245.0</td>\n",
       "      <td>2018-07-16</td>\n",
       "      <td>1899-12-31 16:39:00</td>\n",
       "      <td>2018-07-16</td>\n",
       "      <td>1899-12-31 17:07:00</td>\n",
       "      <td>28</td>\n",
       "      <td>unknown</td>\n",
       "      <td>Assessment and Referral</td>\n",
       "      <td>Text Message</td>\n",
       "      <td>Unknown</td>\n",
       "      <td>19-54 Adult</td>\n",
       "      <td>Individual</td>\n",
       "      <td>NaN</td>\n",
       "      <td>NaN</td>\n",
       "      <td>NaN</td>\n",
       "      <td>Service Provider</td>\n",
       "      <td>BC Hydro CCF</td>\n",
       "      <td>NaN</td>\n",
       "    </tr>\n",
       "    <tr>\n",
       "      <th>3</th>\n",
       "      <td>54693989.0</td>\n",
       "      <td>2018-07-16</td>\n",
       "      <td>1899-12-31 16:27:00</td>\n",
       "      <td>2018-07-16</td>\n",
       "      <td>1899-12-31 16:37:00</td>\n",
       "      <td>10</td>\n",
       "      <td>Winnipeg</td>\n",
       "      <td>Assessment and Referral</td>\n",
       "      <td>Telephone</td>\n",
       "      <td>Female</td>\n",
       "      <td>19-54 Adult</td>\n",
       "      <td>Individual</td>\n",
       "      <td>NaN</td>\n",
       "      <td>NaN</td>\n",
       "      <td>NaN</td>\n",
       "      <td>Service Provider</td>\n",
       "      <td>Housing and Homelessness</td>\n",
       "      <td>Immediate Shelter</td>\n",
       "    </tr>\n",
       "    <tr>\n",
       "      <th>4</th>\n",
       "      <td>54693908.0</td>\n",
       "      <td>2018-07-16</td>\n",
       "      <td>1899-12-31 16:23:00</td>\n",
       "      <td>2018-07-16</td>\n",
       "      <td>1899-12-31 16:26:00</td>\n",
       "      <td>3</td>\n",
       "      <td>Burnaby</td>\n",
       "      <td>Assessment and Referral</td>\n",
       "      <td>Telephone</td>\n",
       "      <td>Female</td>\n",
       "      <td>19-54 Adult</td>\n",
       "      <td>Service Provider</td>\n",
       "      <td>NaN</td>\n",
       "      <td>NaN</td>\n",
       "      <td>NaN</td>\n",
       "      <td>Not Obtained</td>\n",
       "      <td>Income &amp; Financial Assistance</td>\n",
       "      <td>NaN</td>\n",
       "    </tr>\n",
       "  </tbody>\n",
       "</table>\n",
       "</div>"
      ],
      "text/plain": [
       "   callreportnum   DateStart            TimeStart     DateEnd  \\\n",
       "0     54694316.0  2018-07-16  1899-12-31 16:42:00  2018-07-16   \n",
       "1     54694316.0  2018-07-16  1899-12-31 16:42:00  2018-07-16   \n",
       "2     54694245.0  2018-07-16  1899-12-31 16:39:00  2018-07-16   \n",
       "3     54693989.0  2018-07-16  1899-12-31 16:27:00  2018-07-16   \n",
       "4     54693908.0  2018-07-16  1899-12-31 16:23:00  2018-07-16   \n",
       "\n",
       "               TimeEnd  CallLength         CityName                 CallType  \\\n",
       "0  1899-12-31 16:51:00           9  New Westminster  Assessment and Referral   \n",
       "1  1899-12-31 16:51:00           9  New Westminster  Assessment and Referral   \n",
       "2  1899-12-31 17:07:00          28          unknown  Assessment and Referral   \n",
       "3  1899-12-31 16:37:00          10         Winnipeg  Assessment and Referral   \n",
       "4  1899-12-31 16:26:00           3          Burnaby  Assessment and Referral   \n",
       "\n",
       "  ContactMethod CallerDemographicsGender CallerDemographicsAgeGroup  \\\n",
       "0     Telephone                   Female                19-54 Adult   \n",
       "1     Telephone                   Female                19-54 Adult   \n",
       "2  Text Message                  Unknown                19-54 Adult   \n",
       "3     Telephone                   Female                19-54 Adult   \n",
       "4     Telephone                   Female                19-54 Adult   \n",
       "\n",
       "  CallerDemographicsCallerType CallerTypeAffected3rdParty  \\\n",
       "0                   Individual                        NaN   \n",
       "1                   Individual                        NaN   \n",
       "2                   Individual                        NaN   \n",
       "3                   Individual                        NaN   \n",
       "4             Service Provider                        NaN   \n",
       "\n",
       "  CallerDemographicsInterpretationLanguage  \\\n",
       "0                                      NaN   \n",
       "1                                      NaN   \n",
       "2                                      NaN   \n",
       "3                                      NaN   \n",
       "4                                      NaN   \n",
       "\n",
       "  CallerDemographicsInterpretationOtherlanguage PublicityOtherPublicity  \\\n",
       "0                                           NaN            Not Obtained   \n",
       "1                                           NaN            Not Obtained   \n",
       "2                                           NaN        Service Provider   \n",
       "3                                           NaN        Service Provider   \n",
       "4                                           NaN            Not Obtained   \n",
       "\n",
       "                      Mainreason       ReasonDetail  \n",
       "0                          Abuse  Domestic Violence  \n",
       "1       Housing and Homelessness  Immediate Shelter  \n",
       "2                   BC Hydro CCF                NaN  \n",
       "3       Housing and Homelessness  Immediate Shelter  \n",
       "4  Income & Financial Assistance                NaN  "
      ]
     },
     "execution_count": 5,
     "metadata": {},
     "output_type": "execute_result"
    }
   ],
   "source": [
    "final=pd.read_csv('/Users/xirao/Documents/Hackthon/vanml-hacks-2023/data/raw/final_data.csv')\n",
    "final.head()"
   ]
  },
  {
   "cell_type": "code",
   "execution_count": 6,
   "metadata": {},
   "outputs": [
    {
     "name": "stdout",
     "output_type": "stream",
     "text": [
      "                                               n_miss  ratio\n",
      "CallerDemographicsInterpretationOtherlanguage  314671  99.94\n",
      "CallerDemographicsInterpretationLanguage       312349  99.20\n",
      "CallerTypeAffected3rdParty                     286627  91.03\n",
      "ReasonDetail                                    73979  23.50\n",
      "CityName                                          560   0.18\n",
      "PublicityOtherPublicity                           239   0.08\n",
      "CallerDemographicsGender                           18   0.01\n",
      "CallerDemographicsCallerType                        3   0.00\n",
      "CallerDemographicsAgeGroup                          1   0.00\n"
     ]
    },
    {
     "data": {
      "text/plain": [
       "['CityName',\n",
       " 'CallerDemographicsGender',\n",
       " 'CallerDemographicsAgeGroup',\n",
       " 'CallerDemographicsCallerType',\n",
       " 'CallerTypeAffected3rdParty',\n",
       " 'CallerDemographicsInterpretationLanguage',\n",
       " 'CallerDemographicsInterpretationOtherlanguage',\n",
       " 'PublicityOtherPublicity',\n",
       " 'ReasonDetail']"
      ]
     },
     "execution_count": 6,
     "metadata": {},
     "output_type": "execute_result"
    }
   ],
   "source": [
    "def missing_values_table(dataframe):\n",
    "    variables_with_na = [col for col in dataframe.columns if dataframe[col].isnull().sum() > 0]\n",
    "    n_miss = dataframe[variables_with_na].isnull().sum().sort_values(ascending=False)\n",
    "    ratio = (dataframe[variables_with_na].isnull().sum() / dataframe.shape[0] * 100).sort_values(ascending=False)\n",
    "    missing_df = pd.concat([n_miss, np.round(ratio, 2)], axis=1, keys=['n_miss', 'ratio'])\n",
    "    print(missing_df)\n",
    "    return variables_with_na\n",
    "\n",
    "\n",
    "missing_values_table(final)"
   ]
  },
  {
   "cell_type": "code",
   "execution_count": 7,
   "metadata": {},
   "outputs": [
    {
     "ename": "NameError",
     "evalue": "name 'calls' is not defined",
     "output_type": "error",
     "traceback": [
      "\u001b[0;31m---------------------------------------------------------------------------\u001b[0m",
      "\u001b[0;31mNameError\u001b[0m                                 Traceback (most recent call last)",
      "Cell \u001b[0;32mIn[7], line 1\u001b[0m\n\u001b[0;32m----> 1\u001b[0m calls[[\u001b[39m'\u001b[39m\u001b[39mDateStart\u001b[39m\u001b[39m'\u001b[39m,\u001b[39m'\u001b[39m\u001b[39mTimeStart\u001b[39m\u001b[39m'\u001b[39m,\u001b[39m'\u001b[39m\u001b[39mDateEnd\u001b[39m\u001b[39m'\u001b[39m,\u001b[39m'\u001b[39m\u001b[39mTimeEnd\u001b[39m\u001b[39m'\u001b[39m]]\n",
      "\u001b[0;31mNameError\u001b[0m: name 'calls' is not defined"
     ]
    }
   ],
   "source": [
    "calls[['DateStart','TimeStart','DateEnd','TimeEnd']]"
   ]
  },
  {
   "cell_type": "code",
   "execution_count": 8,
   "metadata": {},
   "outputs": [
    {
     "name": "stderr",
     "output_type": "stream",
     "text": [
      "/Users/xirao/Documents/Hackthon/vanml-hacks-2023/venv/lib/python3.9/site-packages/seaborn/_oldcore.py:1498: FutureWarning: is_categorical_dtype is deprecated and will be removed in a future version. Use isinstance(dtype, CategoricalDtype) instead\n",
      "  if pd.api.types.is_categorical_dtype(vector):\n",
      "/Users/xirao/Documents/Hackthon/vanml-hacks-2023/venv/lib/python3.9/site-packages/seaborn/_oldcore.py:1498: FutureWarning: is_categorical_dtype is deprecated and will be removed in a future version. Use isinstance(dtype, CategoricalDtype) instead\n",
      "  if pd.api.types.is_categorical_dtype(vector):\n",
      "/Users/xirao/Documents/Hackthon/vanml-hacks-2023/venv/lib/python3.9/site-packages/seaborn/_oldcore.py:1498: FutureWarning: is_categorical_dtype is deprecated and will be removed in a future version. Use isinstance(dtype, CategoricalDtype) instead\n",
      "  if pd.api.types.is_categorical_dtype(vector):\n",
      "/Users/xirao/Documents/Hackthon/vanml-hacks-2023/venv/lib/python3.9/site-packages/seaborn/_oldcore.py:1119: FutureWarning: use_inf_as_na option is deprecated and will be removed in a future version. Convert inf values to NaN before operating instead.\n",
      "  with pd.option_context('mode.use_inf_as_na', True):\n",
      "/Users/xirao/Documents/Hackthon/vanml-hacks-2023/venv/lib/python3.9/site-packages/seaborn/_oldcore.py:1119: FutureWarning: use_inf_as_na option is deprecated and will be removed in a future version. Convert inf values to NaN before operating instead.\n",
      "  with pd.option_context('mode.use_inf_as_na', True):\n"
     ]
    },
    {
     "data": {
      "text/plain": [
       "<Axes: xlabel='DateEnd', ylabel='CallLength'>"
      ]
     },
     "execution_count": 8,
     "metadata": {},
     "output_type": "execute_result"
    },
    {
     "data": {
      "image/png": "[encoded data removed]",
      "text/plain": [
       "<Figure size 640x480 with 1 Axes>"
      ]
     },
     "metadata": {},
     "output_type": "display_data"
    }
   ],
   "source": [
    "final[['DateEnd','CallLength']]\n",
    "sns.lineplot(data=final,x='DateEnd',y='CallLength')"
   ]
  },
  {
   "cell_type": "code",
   "execution_count": 9,
   "metadata": {},
   "outputs": [
    {
     "data": {
      "text/plain": [
       "Index(['callreportnum', 'DateStart', 'TimeStart', 'DateEnd', 'TimeEnd',\n",
       "       'CallLength', 'CityName', 'CallType', 'ContactMethod',\n",
       "       'CallerDemographicsGender', 'CallerDemographicsAgeGroup',\n",
       "       'CallerDemographicsCallerType', 'CallerTypeAffected3rdParty',\n",
       "       'CallerDemographicsInterpretationLanguage',\n",
       "       'CallerDemographicsInterpretationOtherlanguage',\n",
       "       'PublicityOtherPublicity', 'Mainreason', 'ReasonDetail'],\n",
       "      dtype='object')"
      ]
     },
     "execution_count": 9,
     "metadata": {},
     "output_type": "execute_result"
    }
   ],
   "source": [
    "final.columns"
   ]
  },
  {
   "cell_type": "code",
   "execution_count": 10,
   "metadata": {},
   "outputs": [
    {
     "data": {
      "text/html": [
       "<div>\n",
       "<style scoped>\n",
       "    .dataframe tbody tr th:only-of-type {\n",
       "        vertical-align: middle;\n",
       "    }\n",
       "\n",
       "    .dataframe tbody tr th {\n",
       "        vertical-align: top;\n",
       "    }\n",
       "\n",
       "    .dataframe thead th {\n",
       "        text-align: right;\n",
       "    }\n",
       "</style>\n",
       "<table border=\"1\" class=\"dataframe\">\n",
       "  <thead>\n",
       "    <tr style=\"text-align: right;\">\n",
       "      <th></th>\n",
       "      <th>callreportnum</th>\n",
       "      <th>DateStart</th>\n",
       "      <th>TimeStart</th>\n",
       "      <th>DateEnd</th>\n",
       "      <th>TimeEnd</th>\n",
       "      <th>CallLength</th>\n",
       "      <th>CityName</th>\n",
       "      <th>CallType</th>\n",
       "      <th>ContactMethod</th>\n",
       "      <th>CallerDemographicsGender</th>\n",
       "      <th>CallerDemographicsAgeGroup</th>\n",
       "      <th>CallerDemographicsCallerType</th>\n",
       "      <th>CallerTypeAffected3rdParty</th>\n",
       "      <th>CallerDemographicsInterpretationLanguage</th>\n",
       "      <th>CallerDemographicsInterpretationOtherlanguage</th>\n",
       "      <th>PublicityOtherPublicity</th>\n",
       "      <th>Mainreason</th>\n",
       "      <th>ReasonDetail</th>\n",
       "    </tr>\n",
       "  </thead>\n",
       "  <tbody>\n",
       "    <tr>\n",
       "      <th>0</th>\n",
       "      <td>54694316.0</td>\n",
       "      <td>2018-07-16</td>\n",
       "      <td>1899-12-31 16:42:00</td>\n",
       "      <td>2018-07-16</td>\n",
       "      <td>1899-12-31 16:51:00</td>\n",
       "      <td>9</td>\n",
       "      <td>New Westminster</td>\n",
       "      <td>Assessment and Referral</td>\n",
       "      <td>Telephone</td>\n",
       "      <td>Female</td>\n",
       "      <td>19-54 Adult</td>\n",
       "      <td>Individual</td>\n",
       "      <td>NaN</td>\n",
       "      <td>NaN</td>\n",
       "      <td>NaN</td>\n",
       "      <td>Not Obtained</td>\n",
       "      <td>Abuse</td>\n",
       "      <td>Domestic Violence</td>\n",
       "    </tr>\n",
       "    <tr>\n",
       "      <th>1</th>\n",
       "      <td>54694316.0</td>\n",
       "      <td>2018-07-16</td>\n",
       "      <td>1899-12-31 16:42:00</td>\n",
       "      <td>2018-07-16</td>\n",
       "      <td>1899-12-31 16:51:00</td>\n",
       "      <td>9</td>\n",
       "      <td>New Westminster</td>\n",
       "      <td>Assessment and Referral</td>\n",
       "      <td>Telephone</td>\n",
       "      <td>Female</td>\n",
       "      <td>19-54 Adult</td>\n",
       "      <td>Individual</td>\n",
       "      <td>NaN</td>\n",
       "      <td>NaN</td>\n",
       "      <td>NaN</td>\n",
       "      <td>Not Obtained</td>\n",
       "      <td>Housing and Homelessness</td>\n",
       "      <td>Immediate Shelter</td>\n",
       "    </tr>\n",
       "    <tr>\n",
       "      <th>2</th>\n",
       "      <td>54694245.0</td>\n",
       "      <td>2018-07-16</td>\n",
       "      <td>1899-12-31 16:39:00</td>\n",
       "      <td>2018-07-16</td>\n",
       "      <td>1899-12-31 17:07:00</td>\n",
       "      <td>28</td>\n",
       "      <td>unknown</td>\n",
       "      <td>Assessment and Referral</td>\n",
       "      <td>Text Message</td>\n",
       "      <td>Unknown</td>\n",
       "      <td>19-54 Adult</td>\n",
       "      <td>Individual</td>\n",
       "      <td>NaN</td>\n",
       "      <td>NaN</td>\n",
       "      <td>NaN</td>\n",
       "      <td>Service Provider</td>\n",
       "      <td>BC Hydro CCF</td>\n",
       "      <td>NaN</td>\n",
       "    </tr>\n",
       "    <tr>\n",
       "      <th>3</th>\n",
       "      <td>54693989.0</td>\n",
       "      <td>2018-07-16</td>\n",
       "      <td>1899-12-31 16:27:00</td>\n",
       "      <td>2018-07-16</td>\n",
       "      <td>1899-12-31 16:37:00</td>\n",
       "      <td>10</td>\n",
       "      <td>Winnipeg</td>\n",
       "      <td>Assessment and Referral</td>\n",
       "      <td>Telephone</td>\n",
       "      <td>Female</td>\n",
       "      <td>19-54 Adult</td>\n",
       "      <td>Individual</td>\n",
       "      <td>NaN</td>\n",
       "      <td>NaN</td>\n",
       "      <td>NaN</td>\n",
       "      <td>Service Provider</td>\n",
       "      <td>Housing and Homelessness</td>\n",
       "      <td>Immediate Shelter</td>\n",
       "    </tr>\n",
       "    <tr>\n",
       "      <th>4</th>\n",
       "      <td>54693908.0</td>\n",
       "      <td>2018-07-16</td>\n",
       "      <td>1899-12-31 16:23:00</td>\n",
       "      <td>2018-07-16</td>\n",
       "      <td>1899-12-31 16:26:00</td>\n",
       "      <td>3</td>\n",
       "      <td>Burnaby</td>\n",
       "      <td>Assessment and Referral</td>\n",
       "      <td>Telephone</td>\n",
       "      <td>Female</td>\n",
       "      <td>19-54 Adult</td>\n",
       "      <td>Service Provider</td>\n",
       "      <td>NaN</td>\n",
       "      <td>NaN</td>\n",
       "      <td>NaN</td>\n",
       "      <td>Not Obtained</td>\n",
       "      <td>Income &amp; Financial Assistance</td>\n",
       "      <td>NaN</td>\n",
       "    </tr>\n",
       "  </tbody>\n",
       "</table>\n",
       "</div>"
      ],
      "text/plain": [
       "   callreportnum   DateStart            TimeStart     DateEnd  \\\n",
       "0     54694316.0  2018-07-16  1899-12-31 16:42:00  2018-07-16   \n",
       "1     54694316.0  2018-07-16  1899-12-31 16:42:00  2018-07-16   \n",
       "2     54694245.0  2018-07-16  1899-12-31 16:39:00  2018-07-16   \n",
       "3     54693989.0  2018-07-16  1899-12-31 16:27:00  2018-07-16   \n",
       "4     54693908.0  2018-07-16  1899-12-31 16:23:00  2018-07-16   \n",
       "\n",
       "               TimeEnd  CallLength         CityName                 CallType  \\\n",
       "0  1899-12-31 16:51:00           9  New Westminster  Assessment and Referral   \n",
       "1  1899-12-31 16:51:00           9  New Westminster  Assessment and Referral   \n",
       "2  1899-12-31 17:07:00          28          unknown  Assessment and Referral   \n",
       "3  1899-12-31 16:37:00          10         Winnipeg  Assessment and Referral   \n",
       "4  1899-12-31 16:26:00           3          Burnaby  Assessment and Referral   \n",
       "\n",
       "  ContactMethod CallerDemographicsGender CallerDemographicsAgeGroup  \\\n",
       "0     Telephone                   Female                19-54 Adult   \n",
       "1     Telephone                   Female                19-54 Adult   \n",
       "2  Text Message                  Unknown                19-54 Adult   \n",
       "3     Telephone                   Female                19-54 Adult   \n",
       "4     Telephone                   Female                19-54 Adult   \n",
       "\n",
       "  CallerDemographicsCallerType CallerTypeAffected3rdParty  \\\n",
       "0                   Individual                        NaN   \n",
       "1                   Individual                        NaN   \n",
       "2                   Individual                        NaN   \n",
       "3                   Individual                        NaN   \n",
       "4             Service Provider                        NaN   \n",
       "\n",
       "  CallerDemographicsInterpretationLanguage  \\\n",
       "0                                      NaN   \n",
       "1                                      NaN   \n",
       "2                                      NaN   \n",
       "3                                      NaN   \n",
       "4                                      NaN   \n",
       "\n",
       "  CallerDemographicsInterpretationOtherlanguage PublicityOtherPublicity  \\\n",
       "0                                           NaN            Not Obtained   \n",
       "1                                           NaN            Not Obtained   \n",
       "2                                           NaN        Service Provider   \n",
       "3                                           NaN        Service Provider   \n",
       "4                                           NaN            Not Obtained   \n",
       "\n",
       "                      Mainreason       ReasonDetail  \n",
       "0                          Abuse  Domestic Violence  \n",
       "1       Housing and Homelessness  Immediate Shelter  \n",
       "2                   BC Hydro CCF                NaN  \n",
       "3       Housing and Homelessness  Immediate Shelter  \n",
       "4  Income & Financial Assistance                NaN  "
      ]
     },
     "execution_count": 10,
     "metadata": {},
     "output_type": "execute_result"
    }
   ],
   "source": [
    "final.head()"
   ]
  },
  {
   "cell_type": "code",
   "execution_count": 11,
   "metadata": {},
   "outputs": [
    {
     "name": "stderr",
     "output_type": "stream",
     "text": [
      "/Users/xirao/Documents/Hackthon/vanml-hacks-2023/venv/lib/python3.9/site-packages/seaborn/_oldcore.py:1498: FutureWarning: is_categorical_dtype is deprecated and will be removed in a future version. Use isinstance(dtype, CategoricalDtype) instead\n",
      "  if pd.api.types.is_categorical_dtype(vector):\n",
      "/Users/xirao/Documents/Hackthon/vanml-hacks-2023/venv/lib/python3.9/site-packages/seaborn/_oldcore.py:1498: FutureWarning: is_categorical_dtype is deprecated and will be removed in a future version. Use isinstance(dtype, CategoricalDtype) instead\n",
      "  if pd.api.types.is_categorical_dtype(vector):\n",
      "/Users/xirao/Documents/Hackthon/vanml-hacks-2023/venv/lib/python3.9/site-packages/seaborn/_oldcore.py:1498: FutureWarning: is_categorical_dtype is deprecated and will be removed in a future version. Use isinstance(dtype, CategoricalDtype) instead\n",
      "  if pd.api.types.is_categorical_dtype(vector):\n"
     ]
    },
    {
     "data": {
      "text/plain": [
       "<Axes: xlabel='CallType', ylabel='count'>"
      ]
     },
     "execution_count": 11,
     "metadata": {},
     "output_type": "execute_result"
    },
    {
     "data": {
      "image/png": "[encoded data removed]",
      "text/plain": [
       "<Figure size 640x480 with 1 Axes>"
      ]
     },
     "metadata": {},
     "output_type": "display_data"
    }
   ],
   "source": [
    "sns.countplot(data=final,x='CallType')"
   ]
  },
  {
   "cell_type": "code",
   "execution_count": 12,
   "metadata": {},
   "outputs": [
    {
     "name": "stderr",
     "output_type": "stream",
     "text": [
      "/Users/xirao/Documents/Hackthon/vanml-hacks-2023/venv/lib/python3.9/site-packages/seaborn/_oldcore.py:1498: FutureWarning: is_categorical_dtype is deprecated and will be removed in a future version. Use isinstance(dtype, CategoricalDtype) instead\n",
      "  if pd.api.types.is_categorical_dtype(vector):\n",
      "/Users/xirao/Documents/Hackthon/vanml-hacks-2023/venv/lib/python3.9/site-packages/seaborn/_oldcore.py:1498: FutureWarning: is_categorical_dtype is deprecated and will be removed in a future version. Use isinstance(dtype, CategoricalDtype) instead\n",
      "  if pd.api.types.is_categorical_dtype(vector):\n",
      "/Users/xirao/Documents/Hackthon/vanml-hacks-2023/venv/lib/python3.9/site-packages/seaborn/_oldcore.py:1498: FutureWarning: is_categorical_dtype is deprecated and will be removed in a future version. Use isinstance(dtype, CategoricalDtype) instead\n",
      "  if pd.api.types.is_categorical_dtype(vector):\n"
     ]
    },
    {
     "data": {
      "text/plain": [
       "<Axes: xlabel='CallerDemographicsAgeGroup', ylabel='count'>"
      ]
     },
     "execution_count": 12,
     "metadata": {},
     "output_type": "execute_result"
    },
    {
     "data": {
      "image/png": "[encoded data removed]",
      "text/plain": [
       "<Figure size 640x480 with 1 Axes>"
      ]
     },
     "metadata": {},
     "output_type": "display_data"
    }
   ],
   "source": [
    "sns.countplot(data=final,x='CallerDemographicsAgeGroup')"
   ]
  },
  {
   "cell_type": "code",
   "execution_count": 13,
   "metadata": {},
   "outputs": [
    {
     "name": "stderr",
     "output_type": "stream",
     "text": [
      "/Users/xirao/Documents/Hackthon/vanml-hacks-2023/venv/lib/python3.9/site-packages/seaborn/_oldcore.py:1498: FutureWarning: is_categorical_dtype is deprecated and will be removed in a future version. Use isinstance(dtype, CategoricalDtype) instead\n",
      "  if pd.api.types.is_categorical_dtype(vector):\n",
      "/Users/xirao/Documents/Hackthon/vanml-hacks-2023/venv/lib/python3.9/site-packages/seaborn/_oldcore.py:1119: FutureWarning: use_inf_as_na option is deprecated and will be removed in a future version. Convert inf values to NaN before operating instead.\n",
      "  with pd.option_context('mode.use_inf_as_na', True):\n"
     ]
    },
    {
     "data": {
      "text/plain": [
       "<seaborn.axisgrid.FacetGrid at 0x17bc43dc0>"
      ]
     },
     "execution_count": 13,
     "metadata": {},
     "output_type": "execute_result"
    },
    {
     "data": {
      "image/png": "[encoded data removed]",
      "text/plain": [
       "<Figure size 500x500 with 1 Axes>"
      ]
     },
     "metadata": {},
     "output_type": "display_data"
    }
   ],
   "source": [
    "sns.displot(data=final,x='CallLength')"
   ]
  },
  {
   "cell_type": "code",
   "execution_count": 14,
   "metadata": {},
   "outputs": [],
   "source": [
    "final['CallerDemographicsGender']=final['CallerDemographicsGender'].str.replace('2 Spirited','2 Spirit')\n",
    "final['CallerDemographicsGender']=final['CallerDemographicsGender'].str.replace('Trans Female','Trans')\n",
    "final['CallerDemographicsGender']=final['CallerDemographicsGender'].str.replace('Trans Male','Trans')\n",
    "final['CallerDemographicsGender']=final['CallerDemographicsGender'].str.replace('Transgender','Trans')\n",
    "final['CallerDemographicsGender']=final['CallerDemographicsGender'].str.replace('Prefer not to Disclose','Unknown')"
   ]
  },
  {
   "cell_type": "code",
   "execution_count": 15,
   "metadata": {},
   "outputs": [
    {
     "data": {
      "text/plain": [
       "CallerDemographicsGender\n",
       "Female          188273\n",
       "Male            115742\n",
       "Unknown          10172\n",
       "Trans              540\n",
       "Non-binary          69\n",
       "2 Spirit            25\n",
       "Gender Fluid        15\n",
       "Name: count, dtype: int64"
      ]
     },
     "execution_count": 15,
     "metadata": {},
     "output_type": "execute_result"
    }
   ],
   "source": [
    "final['CallerDemographicsGender'].value_counts()"
   ]
  },
  {
   "cell_type": "code",
   "execution_count": 16,
   "metadata": {},
   "outputs": [],
   "source": [
    "mod_df=final[(final['CallerDemographicsGender'] == 'Female') | (final['CallerDemographicsGender'] == 'Male')] "
   ]
  },
  {
   "cell_type": "code",
   "execution_count": 17,
   "metadata": {},
   "outputs": [
    {
     "data": {
      "text/plain": [
       "CallerDemographicsAgeGroup\n",
       "19-54 Adult               255598\n",
       "65+ Senior                 31280\n",
       "55-64 Adult                12663\n",
       "Unknown                    11211\n",
       "55-64 Older Adult           2903\n",
       "13-18 Youth                 1143\n",
       "0-12 Child                    34\n",
       "Prefer not to Disclose        21\n",
       "Name: count, dtype: int64"
      ]
     },
     "execution_count": 17,
     "metadata": {},
     "output_type": "execute_result"
    }
   ],
   "source": [
    "final['CallerDemographicsAgeGroup'].value_counts()"
   ]
  },
  {
   "cell_type": "code",
   "execution_count": 18,
   "metadata": {},
   "outputs": [
    {
     "data": {
      "text/plain": [
       "CallerDemographicsAgeGroup\n",
       "19-54 Adult    255598\n",
       "65+ Senior      31280\n",
       "55-64 Adult     12663\n",
       "13-18 Youth      1143\n",
       "Name: count, dtype: int64"
      ]
     },
     "execution_count": 18,
     "metadata": {},
     "output_type": "execute_result"
    }
   ],
   "source": [
    "mod_df=final[(final['CallerDemographicsAgeGroup']=='65+ Senior')|(final['CallerDemographicsAgeGroup']=='19-54 Adult') | (final['CallerDemographicsAgeGroup']=='55-64 Adult')\n",
    "            | (final['CallerDemographicsAgeGroup']=='13-18 Youth') ]\n",
    "mod_df['CallerDemographicsAgeGroup'].value_counts()"
   ]
  },
  {
   "cell_type": "code",
   "execution_count": 19,
   "metadata": {},
   "outputs": [
    {
     "name": "stderr",
     "output_type": "stream",
     "text": [
      "/var/folders/qt/t8g050hd0_v1kv6v67nrpgf40000gn/T/ipykernel_53060/2854001211.py:1: SettingWithCopyWarning: \n",
      "A value is trying to be set on a copy of a slice from a DataFrame.\n",
      "Try using .loc[row_indexer,col_indexer] = value instead\n",
      "\n",
      "See the caveats in the documentation: https://pandas.pydata.org/pandas-docs/stable/user_guide/indexing.html#returning-a-view-versus-a-copy\n",
      "  mod_df['DateStart']=pd.to_datetime(mod_df['DateStart'])\n",
      "/var/folders/qt/t8g050hd0_v1kv6v67nrpgf40000gn/T/ipykernel_53060/2854001211.py:2: SettingWithCopyWarning: \n",
      "A value is trying to be set on a copy of a slice from a DataFrame.\n",
      "Try using .loc[row_indexer,col_indexer] = value instead\n",
      "\n",
      "See the caveats in the documentation: https://pandas.pydata.org/pandas-docs/stable/user_guide/indexing.html#returning-a-view-versus-a-copy\n",
      "  mod_df['Year']=mod_df['DateStart'].dt.year\n"
     ]
    }
   ],
   "source": [
    "mod_df['DateStart']=pd.to_datetime(mod_df['DateStart'])\n",
    "mod_df['Year']=mod_df['DateStart'].dt.year"
   ]
  },
  {
   "cell_type": "code",
   "execution_count": 20,
   "metadata": {},
   "outputs": [
    {
     "name": "stderr",
     "output_type": "stream",
     "text": [
      "/Users/xirao/Documents/Hackthon/vanml-hacks-2023/venv/lib/python3.9/site-packages/seaborn/_oldcore.py:1498: FutureWarning: is_categorical_dtype is deprecated and will be removed in a future version. Use isinstance(dtype, CategoricalDtype) instead\n",
      "  if pd.api.types.is_categorical_dtype(vector):\n",
      "/Users/xirao/Documents/Hackthon/vanml-hacks-2023/venv/lib/python3.9/site-packages/seaborn/_oldcore.py:1498: FutureWarning: is_categorical_dtype is deprecated and will be removed in a future version. Use isinstance(dtype, CategoricalDtype) instead\n",
      "  if pd.api.types.is_categorical_dtype(vector):\n",
      "/Users/xirao/Documents/Hackthon/vanml-hacks-2023/venv/lib/python3.9/site-packages/seaborn/_oldcore.py:1498: FutureWarning: is_categorical_dtype is deprecated and will be removed in a future version. Use isinstance(dtype, CategoricalDtype) instead\n",
      "  if pd.api.types.is_categorical_dtype(vector):\n",
      "/Users/xirao/Documents/Hackthon/vanml-hacks-2023/venv/lib/python3.9/site-packages/seaborn/_oldcore.py:1498: FutureWarning: is_categorical_dtype is deprecated and will be removed in a future version. Use isinstance(dtype, CategoricalDtype) instead\n",
      "  if pd.api.types.is_categorical_dtype(vector):\n"
     ]
    },
    {
     "data": {
      "text/plain": [
       "<Axes: xlabel='Year', ylabel='count'>"
      ]
     },
     "execution_count": 20,
     "metadata": {},
     "output_type": "execute_result"
    },
    {
     "data": {
      "image/png": "[encoded data removed]",
      "text/plain": [
       "<Figure size 640x480 with 1 Axes>"
      ]
     },
     "metadata": {},
     "output_type": "display_data"
    }
   ],
   "source": [
    "sns.countplot(data=mod_df,x='Year',hue='CallerDemographicsAgeGroup')"
   ]
  },
  {
   "cell_type": "code",
   "execution_count": null,
   "metadata": {},
   "outputs": [],
   "source": []
  },
  {
   "cell_type": "code",
   "execution_count": 21,
   "metadata": {},
   "outputs": [],
   "source": [
    "mod_df['PublicityOtherPublicity'].value_counts()\n",
    "mod_df=mod_df[mod_df['PublicityOtherPublicity'] != 'Not Obtained']"
   ]
  },
  {
   "cell_type": "code",
   "execution_count": 50,
   "metadata": {},
   "outputs": [
    {
     "data": {
      "text/html": [
       "<div>\n",
       "<style scoped>\n",
       "    .dataframe tbody tr th:only-of-type {\n",
       "        vertical-align: middle;\n",
       "    }\n",
       "\n",
       "    .dataframe tbody tr th {\n",
       "        vertical-align: top;\n",
       "    }\n",
       "\n",
       "    .dataframe thead th {\n",
       "        text-align: right;\n",
       "    }\n",
       "</style>\n",
       "<table border=\"1\" class=\"dataframe\">\n",
       "  <thead>\n",
       "    <tr style=\"text-align: right;\">\n",
       "      <th></th>\n",
       "      <th>CallType</th>\n",
       "      <th>Year</th>\n",
       "      <th>CityName</th>\n",
       "      <th>ContactMethod</th>\n",
       "      <th>CallerDemographicsAgeGroup</th>\n",
       "      <th>CallLength</th>\n",
       "      <th>CallerDemographicsGender</th>\n",
       "    </tr>\n",
       "  </thead>\n",
       "  <tbody>\n",
       "    <tr>\n",
       "      <th>5</th>\n",
       "      <td>Assessment and Referral</td>\n",
       "      <td>2018</td>\n",
       "      <td>Vancouver</td>\n",
       "      <td>Telephone</td>\n",
       "      <td>19-54 Adult</td>\n",
       "      <td>2</td>\n",
       "      <td>Male</td>\n",
       "    </tr>\n",
       "    <tr>\n",
       "      <th>6</th>\n",
       "      <td>Assessment and Referral</td>\n",
       "      <td>2018</td>\n",
       "      <td>Vancouver</td>\n",
       "      <td>Telephone</td>\n",
       "      <td>19-54 Adult</td>\n",
       "      <td>1</td>\n",
       "      <td>Male</td>\n",
       "    </tr>\n",
       "    <tr>\n",
       "      <th>7</th>\n",
       "      <td>Assessment and Referral</td>\n",
       "      <td>2018</td>\n",
       "      <td>Vancouver</td>\n",
       "      <td>Telephone</td>\n",
       "      <td>19-54 Adult</td>\n",
       "      <td>2</td>\n",
       "      <td>Female</td>\n",
       "    </tr>\n",
       "    <tr>\n",
       "      <th>8</th>\n",
       "      <td>Assessment and Referral</td>\n",
       "      <td>2018</td>\n",
       "      <td>Vancouver</td>\n",
       "      <td>Telephone</td>\n",
       "      <td>19-54 Adult</td>\n",
       "      <td>2</td>\n",
       "      <td>Female</td>\n",
       "    </tr>\n",
       "    <tr>\n",
       "      <th>10</th>\n",
       "      <td>Assessment and Referral</td>\n",
       "      <td>2018</td>\n",
       "      <td>Surrey</td>\n",
       "      <td>Telephone</td>\n",
       "      <td>19-54 Adult</td>\n",
       "      <td>8</td>\n",
       "      <td>Female</td>\n",
       "    </tr>\n",
       "  </tbody>\n",
       "</table>\n",
       "</div>"
      ],
      "text/plain": [
       "                   CallType  Year   CityName ContactMethod  \\\n",
       "5   Assessment and Referral  2018  Vancouver     Telephone   \n",
       "6   Assessment and Referral  2018  Vancouver     Telephone   \n",
       "7   Assessment and Referral  2018  Vancouver     Telephone   \n",
       "8   Assessment and Referral  2018  Vancouver     Telephone   \n",
       "10  Assessment and Referral  2018     Surrey     Telephone   \n",
       "\n",
       "   CallerDemographicsAgeGroup  CallLength CallerDemographicsGender  \n",
       "5                 19-54 Adult           2                     Male  \n",
       "6                 19-54 Adult           1                     Male  \n",
       "7                 19-54 Adult           2                   Female  \n",
       "8                 19-54 Adult           2                   Female  \n",
       "10                19-54 Adult           8                   Female  "
      ]
     },
     "execution_count": 50,
     "metadata": {},
     "output_type": "execute_result"
    }
   ],
   "source": [
    "mod_df=mod_df[['CallType','Year','CityName','ContactMethod','CallerDemographicsAgeGroup','CallLength','CallerDemographicsGender']]\n",
    "mod_df=mod_df.dropna()\n",
    "mod_df.head()"
   ]
  },
  {
   "cell_type": "code",
   "execution_count": 51,
   "metadata": {},
   "outputs": [],
   "source": [
    "mod_df=mod_df[(mod_df['CityName'] == 'Vancouver') | (mod_df['CityName'] == 'Surrey') | (mod_df['CityName'] == 'Burnaby')] "
   ]
  },
  {
   "cell_type": "code",
   "execution_count": 61,
   "metadata": {},
   "outputs": [
    {
     "name": "stderr",
     "output_type": "stream",
     "text": [
      "/Users/xirao/Documents/Hackthon/vanml-hacks-2023/venv/lib/python3.9/site-packages/seaborn/_oldcore.py:1498: FutureWarning: is_categorical_dtype is deprecated and will be removed in a future version. Use isinstance(dtype, CategoricalDtype) instead\n",
      "  if pd.api.types.is_categorical_dtype(vector):\n",
      "/Users/xirao/Documents/Hackthon/vanml-hacks-2023/venv/lib/python3.9/site-packages/seaborn/_oldcore.py:1498: FutureWarning: is_categorical_dtype is deprecated and will be removed in a future version. Use isinstance(dtype, CategoricalDtype) instead\n",
      "  if pd.api.types.is_categorical_dtype(vector):\n",
      "/Users/xirao/Documents/Hackthon/vanml-hacks-2023/venv/lib/python3.9/site-packages/seaborn/_oldcore.py:1498: FutureWarning: is_categorical_dtype is deprecated and will be removed in a future version. Use isinstance(dtype, CategoricalDtype) instead\n",
      "  if pd.api.types.is_categorical_dtype(vector):\n",
      "/Users/xirao/Documents/Hackthon/vanml-hacks-2023/venv/lib/python3.9/site-packages/seaborn/_oldcore.py:1498: FutureWarning: is_categorical_dtype is deprecated and will be removed in a future version. Use isinstance(dtype, CategoricalDtype) instead\n",
      "  if pd.api.types.is_categorical_dtype(vector):\n"
     ]
    },
    {
     "data": {
      "text/plain": [
       "<Axes: xlabel='Year', ylabel='count'>"
      ]
     },
     "execution_count": 61,
     "metadata": {},
     "output_type": "execute_result"
    },
    {
     "data": {
      "image/png": "[encoded data removed]",
      "text/plain": [
       "<Figure size 640x480 with 1 Axes>"
      ]
     },
     "metadata": {},
     "output_type": "display_data"
    }
   ],
   "source": [
    "sns.countplot(data=mod_df,x='Year',hue='CallType')"
   ]
  },
  {
   "cell_type": "code",
   "execution_count": 62,
   "metadata": {},
   "outputs": [
    {
     "name": "stderr",
     "output_type": "stream",
     "text": [
      "/Users/xirao/Documents/Hackthon/vanml-hacks-2023/venv/lib/python3.9/site-packages/seaborn/_oldcore.py:1498: FutureWarning: is_categorical_dtype is deprecated and will be removed in a future version. Use isinstance(dtype, CategoricalDtype) instead\n",
      "  if pd.api.types.is_categorical_dtype(vector):\n",
      "/Users/xirao/Documents/Hackthon/vanml-hacks-2023/venv/lib/python3.9/site-packages/seaborn/_oldcore.py:1498: FutureWarning: is_categorical_dtype is deprecated and will be removed in a future version. Use isinstance(dtype, CategoricalDtype) instead\n",
      "  if pd.api.types.is_categorical_dtype(vector):\n",
      "/Users/xirao/Documents/Hackthon/vanml-hacks-2023/venv/lib/python3.9/site-packages/seaborn/_oldcore.py:1498: FutureWarning: is_categorical_dtype is deprecated and will be removed in a future version. Use isinstance(dtype, CategoricalDtype) instead\n",
      "  if pd.api.types.is_categorical_dtype(vector):\n",
      "/Users/xirao/Documents/Hackthon/vanml-hacks-2023/venv/lib/python3.9/site-packages/seaborn/_oldcore.py:1498: FutureWarning: is_categorical_dtype is deprecated and will be removed in a future version. Use isinstance(dtype, CategoricalDtype) instead\n",
      "  if pd.api.types.is_categorical_dtype(vector):\n"
     ]
    },
    {
     "data": {
      "text/plain": [
       "<Axes: xlabel='Year', ylabel='count'>"
      ]
     },
     "execution_count": 62,
     "metadata": {},
     "output_type": "execute_result"
    },
    {
     "data": {
      "image/png": "[encoded data removed]",
      "text/plain": [
       "<Figure size 640x480 with 1 Axes>"
      ]
     },
     "metadata": {},
     "output_type": "display_data"
    }
   ],
   "source": [
    "sns.countplot(data=mod_df,x='Year',hue='ContactMethod')"
   ]
  },
  {
   "cell_type": "code",
   "execution_count": 53,
   "metadata": {},
   "outputs": [],
   "source": [
    "#gender,year,age group,city,call type, contact method\n",
    "features=['CallType','CityName','Year','ContactMethod','CallerDemographicsAgeGroup','CallerDemographicsGender']\n",
    "Y=mod_df['CallLength']\n",
    "X=mod_df[features]"
   ]
  },
  {
   "cell_type": "code",
   "execution_count": 54,
   "metadata": {},
   "outputs": [],
   "source": [
    "encoder = ColumnTransformer(\n",
    "    transformers=[\n",
    "        ('cat', preprocessing.OneHotEncoder(), features)\n",
    "    ],\n",
    "    remainder='passthrough'  # Keep numeric features that are not transformed\n",
    ")"
   ]
  },
  {
   "cell_type": "code",
   "execution_count": 55,
   "metadata": {},
   "outputs": [],
   "source": [
    "lr_clf = make_pipeline(\n",
    "    encoder,\n",
    "    StandardScaler(with_mean=False),\n",
    "    LinearRegression()\n",
    ")"
   ]
  },
  {
   "cell_type": "code",
   "execution_count": 63,
   "metadata": {},
   "outputs": [],
   "source": [
    "X_train, X_test, y_train, y_test = train_test_split(X,Y,\n",
    "                                                    test_size=0.2,random_state=0)"
   ]
  },
  {
   "cell_type": "code",
   "execution_count": 64,
   "metadata": {},
   "outputs": [],
   "source": [
    "mod=lr_clf.fit(X_train,y_train)"
   ]
  },
  {
   "cell_type": "code",
   "execution_count": 65,
   "metadata": {},
   "outputs": [
    {
     "data": {
      "text/plain": [
       "0.0844009680958906"
      ]
     },
     "execution_count": 65,
     "metadata": {},
     "output_type": "execute_result"
    }
   ],
   "source": [
    "mod.score(X_test,y_test)"
   ]
  },
  {
   "cell_type": "code",
   "execution_count": 66,
   "metadata": {},
   "outputs": [
    {
     "data": {
      "text/plain": [
       "array([8.07135795, 5.46026772, 5.22014348, ..., 9.47805726, 5.46026772,\n",
       "       6.65189861])"
      ]
     },
     "execution_count": 66,
     "metadata": {},
     "output_type": "execute_result"
    }
   ],
   "source": [
    "preds=mod.predict(X_test)\n",
    "preds"
   ]
  },
  {
   "cell_type": "code",
   "execution_count": 67,
   "metadata": {},
   "outputs": [
    {
     "name": "stdout",
     "output_type": "stream",
     "text": [
      "RMSE: 7.3969964199664355\n"
     ]
    }
   ],
   "source": [
    "from sklearn import metrics\n",
    "print('RMSE:', np.sqrt(metrics.mean_squared_error(y_test, preds)))"
   ]
  },
  {
   "cell_type": "code",
   "execution_count": null,
   "metadata": {},
   "outputs": [],
   "source": []
  },
  {
   "cell_type": "code",
   "execution_count": null,
   "metadata": {},
   "outputs": [],
   "source": []
  },
  {
   "cell_type": "code",
   "execution_count": null,
   "metadata": {},
   "outputs": [],
   "source": []
  }
 ],
 "metadata": {
  "kernelspec": {
   "display_name": "venv",
   "language": "python",
   "name": "python3"
  },
  "language_info": {
   "codemirror_mode": {
    "name": "ipython",
    "version": 3
   },
   "file_extension": ".py",
   "mimetype": "text/x-python",
   "name": "python",
   "nbconvert_exporter": "python",
   "pygments_lexer": "ipython3",
   "version": "3.9.6"
  },
  "orig_nbformat": 4
 },
 "nbformat": 4,
 "nbformat_minor": 2
}
