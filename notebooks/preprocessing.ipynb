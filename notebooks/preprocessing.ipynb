{
 "cells": [
  {
   "cell_type": "code",
   "execution_count": 1,
   "metadata": {},
   "outputs": [],
   "source": [
    "import sys\n",
    "sys.path.append(\"..\")\n",
    "\n",
    "import dotenv\n",
    "from datetime import datetime\n",
    "\n",
    "import pandas as pd\n",
    "from helpers.load_data import *\n",
    "\n",
    "\n",
    "dotenv.load_dotenv()\n",
    "DATA_DIRECTORY = os.environ.get(\"DATA_DIRECTORY\", './data')"
   ]
  },
  {
   "cell_type": "code",
   "execution_count": 12,
   "metadata": {},
   "outputs": [
    {
     "name": "stderr",
     "output_type": "stream",
     "text": [
      "/home/morris/Documents/coding/vanML-2023/notebooks/../helpers/load_data.py:20: DtypeWarning: Columns (14) have mixed types. Specify dtype option on import or set low_memory=False.\n",
      "  df = pd.read_csv(data_filepath, parse_dates=[1, 2, 3, 4])\n",
      "/home/morris/Documents/coding/vanML-2023/notebooks/../helpers/load_data.py:20: DtypeWarning: Columns (14) have mixed types. Specify dtype option on import or set low_memory=False.\n",
      "  df = pd.read_csv(data_filepath, parse_dates=[1, 2, 3, 4])\n",
      "/home/morris/Documents/coding/vanML-2023/notebooks/../helpers/load_data.py:20: DtypeWarning: Columns (14) have mixed types. Specify dtype option on import or set low_memory=False.\n",
      "  df = pd.read_csv(data_filepath, parse_dates=[1, 2, 3, 4])\n"
     ]
    }
   ],
   "source": [
    "dfs = load_datafolder(\"processed\")\n",
    "df = dfs[\"final_data.csv\"]"
   ]
  },
  {
   "cell_type": "code",
   "execution_count": 20,
   "metadata": {},
   "outputs": [
    {
     "data": {
      "text/plain": [
       "Hour\n",
       "11    26695\n",
       "12    24611\n",
       "14    24469\n",
       "10    23552\n",
       "13    23067\n",
       "15    22806\n",
       "16    19315\n",
       "9     19183\n",
       "17    13937\n",
       "19    12586\n",
       "18    11960\n",
       "8     10808\n",
       "20    10790\n",
       "21     9415\n",
       "22     7735\n",
       "23     5319\n",
       "7      4150\n",
       "0      3848\n",
       "1      2868\n",
       "2      2085\n",
       "6      1804\n",
       "3      1623\n",
       "5      1273\n",
       "4      1253\n",
       "Name: count, dtype: int64"
      ]
     },
     "execution_count": 20,
     "metadata": {},
     "output_type": "execute_result"
    }
   ],
   "source": [
    "df['DayOfWeek'] = df[\"DateStart\"].dt.day_name\n",
    "df[\"Month\"] = df[\"DateStart\"].dt.month_name\n",
    "df[\"Hour\"] = df[\"TimeStart\"].dt.hour\n",
    "df[\"Hour\"].value_counts()"
   ]
  },
  {
   "cell_type": "code",
   "execution_count": 30,
   "metadata": {},
   "outputs": [],
   "source": [
    "top_5_cities = df['CityName'].value_counts().sort_values(ascending=False)[0:5]\n",
    "\n",
    "# grabs the top 5 cities for use in model training\n",
    "for city in top_5_cities.keys():\n",
    "    dn = df[df[\"CityName\"] == city]\n",
    "    dn[\"CityName\"].value_counts()\n",
    "\n",
    "    dn.to_csv(f\"{DATA_DIRECTORY}/processed/final_data_{city.lower()}.csv\", index=False)\n",
    "\n",
    "\n",
    "# sort by population\n",
    "# and then once we have that we can run through models to assess the best one for the city"
   ]
  }
 ],
 "metadata": {
  "kernelspec": {
   "display_name": "venv",
   "language": "python",
   "name": "python3"
  },
  "language_info": {
   "codemirror_mode": {
    "name": "ipython",
    "version": 3
   },
   "file_extension": ".py",
   "mimetype": "text/x-python",
   "name": "python",
   "nbconvert_exporter": "python",
   "pygments_lexer": "ipython3",
   "version": "3.10.12"
  },
  "orig_nbformat": 4
 },
 "nbformat": 4,
 "nbformat_minor": 2
}
