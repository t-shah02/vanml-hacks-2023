{
 "cells": [
  {
   "cell_type": "code",
   "execution_count": 2,
   "metadata": {},
   "outputs": [],
   "source": [
    "import sys\n",
    "sys.path.append(\"..\")\n",
    "\n",
    "from helpers.load_data import *\n",
    "import pandas as pd\n",
    "import numpy as np\n",
    "import matplotlib.pyplot as plt\n",
    "from sklearn.compose import ColumnTransformer\n",
    "from sklearn.model_selection import train_test_split\n",
    "from sklearn.pipeline import make_pipeline\n",
    "from sklearn.metrics import mean_squared_error, mean_absolute_error\n",
    "from sklearn.preprocessing import StandardScaler, PolynomialFeatures, MinMaxScaler, OneHotEncoder, LabelEncoder\n",
    "from sklearn.neighbors import KNeighborsRegressor\n",
    "from sklearn.ensemble import AdaBoostRegressor, RandomForestRegressor\n",
    "from sklearn.linear_model import LinearRegression"
   ]
  },
  {
   "cell_type": "code",
   "execution_count": 15,
   "metadata": {},
   "outputs": [
    {
     "name": "stderr",
     "output_type": "stream",
     "text": [
      "/home/morris/Documents/coding/vanML-2023/notebooks/../helpers/load_data.py:20: DtypeWarning: Columns (14) have mixed types. Specify dtype option on import or set low_memory=False.\n",
      "  df = pd.read_csv(data_filepath)\n",
      "/home/morris/Documents/coding/vanML-2023/notebooks/../helpers/load_data.py:20: DtypeWarning: Columns (14) have mixed types. Specify dtype option on import or set low_memory=False.\n",
      "  df = pd.read_csv(data_filepath)\n",
      "/home/morris/Documents/coding/vanML-2023/notebooks/../helpers/load_data.py:20: DtypeWarning: Columns (14) have mixed types. Specify dtype option on import or set low_memory=False.\n",
      "  df = pd.read_csv(data_filepath)\n"
     ]
    }
   ],
   "source": [
    "features = ['DateStart','CallerDemographicsGender', 'CallType', 'CallerDemographicsCallerType', 'ContactMethod']\n",
    "\n",
    "encoder = ColumnTransformer(\n",
    "    transformers=[\n",
    "        ('cat', OneHotEncoder(handle_unknown=\"ignore\"), features)\n",
    "    ],\n",
    "    remainder='passthrough'  # Keep numeric features that are not transformed\n",
    ")\n",
    "\n",
    "dfs = load_datafolder('processed')\n",
    "df = dfs['final_data_surrey.csv']\n",
    "lr_pipeline = make_pipeline(\n",
    "    StandardScaler(with_mean=False),\n",
    "    RandomForestRegressor()\n",
    ")\n",
    "\n",
    "X = df[features] \n",
    "y = df[\"CallLength\"]\n",
    "x_transform = encoder.fit_transform(X)\n",
    "\n",
    "X_train, X_test, y_train, y_test = train_test_split(x_transform, y, test_size=.2, random_state=42)\n",
    "\n",
    "fotted = lr_pipeline.fit(X_train, y_train)\n",
    "\n",
    "fotted.score(X_test, y_test)"
   ]
  },
  {
   "cell_type": "code",
   "execution_count": 1,
   "metadata": {},
   "outputs": [
    {
     "ename": "SyntaxError",
     "evalue": "incomplete input (1516484817.py, line 1)",
     "output_type": "error",
     "traceback": [
      "\u001b[0;36m  Cell \u001b[0;32mIn[1], line 1\u001b[0;36m\u001b[0m\n\u001b[0;31m    def train_model_on_city(city_name: str):\u001b[0m\n\u001b[0m                                            ^\u001b[0m\n\u001b[0;31mSyntaxError\u001b[0m\u001b[0;31m:\u001b[0m incomplete input\n"
     ]
    }
   ],
   "source": [
    "def train_model_on_city(city_name: str):\n",
    "    features = ['DateStart','CallerDemographicsGender', 'CallType', 'CallerDemographicsCallerType', 'ContactMethod']\n",
    "    df = dfs[f'final_data_{city_name}.csv']\n",
    "\n",
    "    encoder = ColumnTransformer(\n",
    "        transformers=[\n",
    "            ('cat', OneHotEncoder(handle_unknown=\"ignore\"), features)\n",
    "        ],\n",
    "        remainder='passthrough'  # Keep numeric features that are not transformed\n",
    "    )\n",
    "    X = df[features] \n",
    "    y = df[\"CallLength\"]\n",
    "    X_transform = encoder.fit_transform(X)\n",
    "\n",
    "    X_train, X_test, y_train, y_test = train_test_split(X_transform, y, test_size=.2, random_state=42)\n",
    "    \n",
    "    rf_pipeline = make_pipeline(\n",
    "        StandardScaler(with_mean=False),\n",
    "        RandomForestRegressor()\n",
    "    )   \n",
    "\n",
    "    return rf_pipeline.fit(X_train, y_train)"
   ]
  },
  {
   "cell_type": "code",
   "execution_count": null,
   "metadata": {},
   "outputs": [],
   "source": []
  }
 ],
 "metadata": {
  "kernelspec": {
   "display_name": "venv",
   "language": "python",
   "name": "python3"
  },
  "language_info": {
   "codemirror_mode": {
    "name": "ipython",
    "version": 3
   },
   "file_extension": ".py",
   "mimetype": "text/x-python",
   "name": "python",
   "nbconvert_exporter": "python",
   "pygments_lexer": "ipython3",
   "version": "3.11.2"
  },
  "orig_nbformat": 4
 },
 "nbformat": 4,
 "nbformat_minor": 2
}
