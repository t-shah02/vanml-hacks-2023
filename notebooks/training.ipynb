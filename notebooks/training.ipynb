{
 "cells": [
  {
   "cell_type": "code",
   "execution_count": 25,
   "metadata": {},
   "outputs": [],
   "source": [
    "import sys\n",
    "sys.path.append(\"..\")\n",
    "\n",
    "from helpers.load_data import *\n",
    "import pandas as pd\n",
    "import numpy as np\n",
    "import matplotlib.pyplot as plt\n",
    "from sklearn.compose import ColumnTransformer\n",
    "from sklearn.model_selection import train_test_split\n",
    "from sklearn.pipeline import make_pipeline\n",
    "from sklearn.metrics import mean_squared_error, mean_absolute_error\n",
    "from sklearn.preprocessing import StandardScaler, PolynomialFeatures, MinMaxScaler, OneHotEncoder, LabelEncoder\n",
    "from sklearn.neighbors import KNeighborsRegressor\n",
    "from sklearn.ensemble import AdaBoostRegressor, RandomForestRegressor\n",
    "from sklearn.linear_model import LinearRegression"
   ]
  },
  {
   "cell_type": "code",
   "execution_count": 1,
   "metadata": {},
   "outputs": [
    {
     "ename": "NameError",
     "evalue": "name 'ColumnTransformer' is not defined",
     "output_type": "error",
     "traceback": [
      "\u001b[0;31m---------------------------------------------------------------------------\u001b[0m",
      "\u001b[0;31mNameError\u001b[0m                                 Traceback (most recent call last)",
      "\u001b[1;32m/home/morris/Documents/coding/vanML-2023/notebooks/training.ipynb Cell 2\u001b[0m line \u001b[0;36m3\n\u001b[1;32m      <a href='vscode-notebook-cell:/home/morris/Documents/coding/vanML-2023/notebooks/training.ipynb#W1sZmlsZQ%3D%3D?line=0'>1</a>\u001b[0m features \u001b[39m=\u001b[39m [\u001b[39m\"\u001b[39m\u001b[39mCityName\u001b[39m\u001b[39m\"\u001b[39m]\n\u001b[0;32m----> <a href='vscode-notebook-cell:/home/morris/Documents/coding/vanML-2023/notebooks/training.ipynb#W1sZmlsZQ%3D%3D?line=2'>3</a>\u001b[0m encoder \u001b[39m=\u001b[39m ColumnTransformer(\n\u001b[1;32m      <a href='vscode-notebook-cell:/home/morris/Documents/coding/vanML-2023/notebooks/training.ipynb#W1sZmlsZQ%3D%3D?line=3'>4</a>\u001b[0m     transformers\u001b[39m=\u001b[39m[\n\u001b[1;32m      <a href='vscode-notebook-cell:/home/morris/Documents/coding/vanML-2023/notebooks/training.ipynb#W1sZmlsZQ%3D%3D?line=4'>5</a>\u001b[0m         (\u001b[39m'\u001b[39m\u001b[39mcat\u001b[39m\u001b[39m'\u001b[39m, LabelEncoder(handle_unknown\u001b[39m=\u001b[39m\u001b[39m\"\u001b[39m\u001b[39mignore\u001b[39m\u001b[39m\"\u001b[39m), features)\n\u001b[1;32m      <a href='vscode-notebook-cell:/home/morris/Documents/coding/vanML-2023/notebooks/training.ipynb#W1sZmlsZQ%3D%3D?line=5'>6</a>\u001b[0m     ],\n\u001b[1;32m      <a href='vscode-notebook-cell:/home/morris/Documents/coding/vanML-2023/notebooks/training.ipynb#W1sZmlsZQ%3D%3D?line=6'>7</a>\u001b[0m     remainder\u001b[39m=\u001b[39m\u001b[39m'\u001b[39m\u001b[39mpassthrough\u001b[39m\u001b[39m'\u001b[39m  \u001b[39m# Keep numeric features that are not transformed\u001b[39;00m\n\u001b[1;32m      <a href='vscode-notebook-cell:/home/morris/Documents/coding/vanML-2023/notebooks/training.ipynb#W1sZmlsZQ%3D%3D?line=7'>8</a>\u001b[0m )\n\u001b[1;32m     <a href='vscode-notebook-cell:/home/morris/Documents/coding/vanML-2023/notebooks/training.ipynb#W1sZmlsZQ%3D%3D?line=9'>10</a>\u001b[0m dfs \u001b[39m=\u001b[39m load_datafolder(\u001b[39m'\u001b[39m\u001b[39mprocessed\u001b[39m\u001b[39m'\u001b[39m)\n\u001b[1;32m     <a href='vscode-notebook-cell:/home/morris/Documents/coding/vanML-2023/notebooks/training.ipynb#W1sZmlsZQ%3D%3D?line=10'>11</a>\u001b[0m df \u001b[39m=\u001b[39m dfs[\u001b[39m'\u001b[39m\u001b[39mfinal_data.csv\u001b[39m\u001b[39m'\u001b[39m]\n",
      "\u001b[0;31mNameError\u001b[0m: name 'ColumnTransformer' is not defined"
     ]
    }
   ],
   "source": [
    "features = [\"CityName\"]\n",
    "\n",
    "encoder = ColumnTransformer(\n",
    "    transformers=[\n",
    "        ('cat', LabelEncoder(handle_unknown=\"ignore\"), features)\n",
    "    ],\n",
    "    remainder='passthrough'  # Keep numeric features that are not transformed\n",
    ")\n",
    "\n",
    "dfs = load_datafolder('processed')\n",
    "df = dfs['final_data.csv']\n",
    "lr_pipeline = make_pipeline(\n",
    "    StandardScaler(with_mean=False),\n",
    "    AdaBoostRegressor()\n",
    ")\n",
    "\n",
    "X = df[features] \n",
    "y = df[\"CallLength\"]\n",
    "#x_transform = encoder.fit_transform(X)\n",
    "\n",
    "X_train, X_test, y_train, y_test = train_test_split(X, y, test_size=.2, random_state=42)\n",
    "\n",
    "fotted = lr_pipeline.fit(X_train, y_train)\n",
    "\n",
    "fotted.score(X_test, y_test)"
   ]
  },
  {
   "cell_type": "code",
   "execution_count": 37,
   "metadata": {},
   "outputs": [
    {
     "name": "stdout",
     "output_type": "stream",
     "text": [
      "74.27029002041864\n"
     ]
    }
   ],
   "source": [
    "print(mean_squared_error(y_test, fotted.predict(X_test)))"
   ]
  }
 ],
 "metadata": {
  "kernelspec": {
   "display_name": "venv",
   "language": "python",
   "name": "python3"
  },
  "language_info": {
   "codemirror_mode": {
    "name": "ipython",
    "version": 3
   },
   "file_extension": ".py",
   "mimetype": "text/x-python",
   "name": "python",
   "nbconvert_exporter": "python",
   "pygments_lexer": "ipython3",
   "version": "3.10.12"
  },
  "orig_nbformat": 4
 },
 "nbformat": 4,
 "nbformat_minor": 2
}
